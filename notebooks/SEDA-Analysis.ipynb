{
 "cells": [
  {
   "cell_type": "code",
   "execution_count": null,
   "metadata": {},
   "outputs": [],
   "source": [
    "import numpy as np\n",
    "import pandas as pd\n",
    "import altair as alt\n",
    "# disable row limit for plotting\n",
    "alt.data_transformers.disable_max_rows()\n",
    "# uncomment to ensure graphics display with pdf export\n",
    "# alt.renderers.enable('mimetype')\n",
    "alt.renderers.enable('default')"
   ]
  },
  {
   "cell_type": "markdown",
   "metadata": {},
   "source": [
    "# Background \n",
    "\n",
    "Gender achievement gaps in education have been well-documented over the years -- studies consistently find boys outperforming girls on math tests and girls outperforming boys on reading and language tests. A particularly controversial [article](https://www.jstor.org/stable/1684489) was published in Science in 1980 arguing that this pattern was due to an 'innate' difference in ability (focusing on mathematics rather than on reading and language). Such views persisted in part because studying systematic patterns in achievement nationwide was a challenge due to differential testing standards across school districts and the general lack of availability of large-scale data.\n",
    "\n",
    "It is only recently that data-driven research has begun to reveal socioeconomic drivers of achievement gaps. The [Standford Educational Data Archive](https://edopportunity.org/) (SEDA), a publicly available database on academic achievement and educational opportunity in U.S. schools, has supported this effort. The database is part of a broader initiave aiming to improve educational opportunity by enabling researchers and policymakers to identify systemic drivers of disparity.\n",
    "\n",
    "> SEDA includes a range of detailed data on educational conditions, contexts, and outcomes in school districts and counties across the United States. It includes measures of academic achievement and achievement gaps for school districts and counties, as well as district-level measures of racial and socioeconomic composition, racial and socioeconomic segregation patterns, and other features of the schooling system.\n",
    "\n",
    "The database standardizes average test scores for schools 10,000 U.S. school districts relative to national standards to allow comparability between school districts and across grade levels and years. The test score data come from the U.S. Department of Education. In addition, multiple data sources (American Community Survey and Common Core of Data) are integrated to provide district-level socioeconomic and demographic information.\n",
    "\n",
    "A [study of the SEDA data published in 2018](https://cepa.stanford.edu/content/gender-achievement-gaps-us-school-districts) identified the following persistent patterns across grade levels 3 - 8 and school ears from 2008 through 2015:\n",
    "* a consistent reading and language achievement gap favoring girls;\n",
    "* *no* national math achievement gap on average; and\n",
    "* local math achievement gaps that depend on the socioeconomic conditions of school districts.\n",
    "You can read about the main findings of the study in this [brief NY Times article](https://www.nytimes.com/interactive/2018/06/13/upshot/boys-girls-math-reading-tests.html).\n",
    "\n",
    "Below, I'll work with selected portions of the database. The full datasets can be downloaded [here](https://edopportunity.org/get-the-data/seda-archive-downloads/).\n",
    "\n",
    "## Objectives\n",
    "\n",
    "In this assignment, I'll explore achievement gaps in California school districts in 2018, replicating the findings described [in the NYT article](https://www.nytimes.com/interactive/2018/06/13/upshot/boys-girls-math-reading-tests.html) on California and using the most recent SEDA data. I'll practice the following:\n",
    "\n",
    "* review of data documentation\n",
    "* assessment of sampling design and scope of inference\n",
    "* data tidying operations\n",
    "    + slicing and filtering\n",
    "    + merging multiple data frames\n",
    "    + pivoting tables\n",
    "    + renaming and reordering variables\n",
    "* constructing exploratory graphics and visualizing trends\n",
    "* data aggregations\n",
    "* narrative summary of exploratory analysis"
   ]
  },
  {
   "cell_type": "markdown",
   "metadata": {},
   "source": [
    "# Import and assessment of datasets\n",
    "\n",
    "We'll work with test data and socioeconomic covariates aggregated to the school district level. These data are stored in two separate tables. Here, we'll examine them and review data documentation.\n",
    "\n",
    "## Test score data\n",
    "\n",
    "The first few rows of the test data are shown below. The columns are:\n",
    "\n",
    "Column name | Meaning\n",
    "---|---\n",
    "`sedalea` | District ID\n",
    "`grade` | Grade level\n",
    "`stateabb` | State abbreviation\n",
    "`sedaleaname` | District name\n",
    "`subject` | Test subject\n",
    "`cs_mn_...` | Estimated mean test score\n",
    "`cs_mnse_...` | Standard error for estimated mean test score\n",
    "`totgyb_...` | Number of individual tests used to estimate the mean score"
   ]
  },
  {
   "cell_type": "code",
   "execution_count": null,
   "metadata": {},
   "outputs": [],
   "source": [
    "# import seda data\n",
    "ca_main = pd.read_csv('../data/ca-main.csv')\n",
    "ca_cov = pd.read_csv('../data/ca-cov.csv')\n",
    "\n",
    "# preview test score data\n",
    "ca_main.head(4)"
   ]
  },
  {
   "cell_type": "markdown",
   "metadata": {},
   "source": [
    "The test score means for each district are named `cs_mn_...` with an abbreviation indicating subgroup (such as the mean score for all `cs_mean_all,` for boys `cs_mean_mal,` for white students `cs_mn_wht,` and so on). Notice that these are generally small-ish: decimal numbers between -0.5 and 0.5.\n",
    "\n",
    "These means are *estimated* from several individual student tests and *standardized* relative to national averages. They represent the number of standard deviations by which a district mean differs from the national average. For instance, the value `cs_mn_all = 0.1` indicates that the district average is estimated to be 0.1 standard deviations higher than the national average on the corresponding test and at the corresponding grade level."
   ]
  },
  {
   "cell_type": "markdown",
   "metadata": {},
   "source": [
    "### Interpretation of test score values\n",
    "\n",
    "\n",
    "We will be examining average math test scores for all 4th-grade students in the Acton-Agua Dulce Unified School District (the first row). The value `cs_mn_all = -0.367007` indicates that the district average is estimated to be 0.367 standard deviations lower than the national average on the corresponding test and at the corresponding grade level.\n"
   ]
  },
  {
   "cell_type": "markdown",
   "metadata": {},
   "source": [
    "<!-- END QUESTION -->\n",
    "\n",
    "## Covariate data\n",
    "\n",
    "The first few rows of the covariate data are shown below. The column information is as follows:\n",
    "\n",
    "Column name | Meaning\n",
    "---|---\n",
    "`sedalea` | District ID\n",
    "`grade` | Grade level\n",
    "`sedaleanm` | District name\n",
    "`urban` | Indicator: is the district in an urban locale?\n",
    "`suburb` | Indicator: is the district in a suburban locale?\n",
    "`town` | Indicator: is the district in a town locale?\n",
    "`rural` | Indicator: is the district in a rural locale?\n",
    "`locale` | Description of district locale\n",
    "Remaining variables | Demographic and socioeconomic measures"
   ]
  },
  {
   "cell_type": "code",
   "execution_count": null,
   "metadata": {},
   "outputs": [],
   "source": [
    "ca_cov.head(3)"
   ]
  },
  {
   "cell_type": "markdown",
   "metadata": {},
   "source": [
    "We will only be working with a handful of the demographic and socioeconomic measures, so we can put off getting acquainted with those until selecting a subset of variables."
   ]
  },
  {
   "cell_type": "markdown",
   "metadata": {},
   "source": [
    "### Data semantics\n",
    "\n",
    "In the non-public data, the observational units are students; test scores are measured for each student. However, in the SEDA data we've imported, scores are *aggregated* to the district level by grade. Regarding estimated test score means for each grade as distinct variables so that an observation consists of a set of estimated means for different grade levels and groups, the observational units in the test score dataset are the districts. The covariate dataset observational units are also the districts.\n"
   ]
  },
  {
   "cell_type": "markdown",
   "metadata": {},
   "source": [
    "### Sample sizes\n",
    "\n",
    "We will count the number of observational units in each dataset. We'll count the number of units in the test dataset and the number of units in the covariate dataset separately, storing the values as `ca_cov_units` and `ca_main_units`, respectively."
   ]
  },
  {
   "cell_type": "code",
   "execution_count": null,
   "metadata": {
    "tags": []
   },
   "outputs": [],
   "source": [
    "ca_cov_units = ca_cov['sedalea'].nunique()\n",
    "ca_main_units = ca_main['sedalea'].nunique()\n",
    "\n",
    "print('units in covariate data: ', ca_cov_units)\n",
    "print('units in test score data: ', ca_main_units)"
   ]
  },
  {
   "cell_type": "markdown",
   "metadata": {},
   "source": [
    "### Sampling Design Analysis\n",
    "\n",
    "We will examine the sampling design characteristics of our datasets by addressing several key aspects of the data collection and scope of inference.\n",
    "\n",
    "**Population Identification**: The relevant population for the datasets we've imported is California school districts.\n",
    "\n",
    "**Sample Coverage**: Looking at the proportion of the population captured in our sample (referencing [Fingertip Facts on Education in California](https://www.cde.ca.gov/ds/sd/cb/ceffingertipfacts.asp)), the coverage varies by district type (`High` and `Other`) and by school type (`Intermediate/Middle` or `High`).\n",
    "\n",
    "**Dataset Classification**: Given that the sampling frame is not clearly identified, we suspect this is administrative data, as the school system is inherently concerned about the success of its students and would likely systematically collect this information.\n",
    "\n",
    "**Scope of Inference**: In light of these sample characteristics, we can generalize our findings to the California public school system. However, it would be unreasonable to use this data to generalize to the California private school system, as private schools operate under different administrative structures and may not be included in this data collection framework. \n"
   ]
  },
  {
   "cell_type": "markdown",
   "metadata": {},
   "source": [
    "\n",
    "# Data tidying\n",
    "\n",
    "Since you've already had some guided practice doing this in previous assignments, you'll be left to fill in a little bit more of the details on your own in this assignment. You'll work with the following variables from each dataset:\n",
    "\n",
    "* **Test score data**\n",
    "    + District ID\n",
    "    + District name\n",
    "    + Grade\n",
    "    + Test subject\n",
    "    + Estimated male-female gap\n",
    "* **Covariate data**\n",
    "    + District ID\n",
    "    + Locale\n",
    "    + Grade\n",
    "    + Socioeconomic status (all demographic groups)\n",
    "    + Log median income (all demographic groups)\n",
    "    + Poverty rate (all demographic groups)\n",
    "    + Unemployment rate (all demographic groups)\n",
    "    + SNAP benefit receipt rate (all demographic groups)\n",
    "\n",
    "\n",
    "### Test score data (Seda Codebook geodist)\n",
    "\n",
    "| Variable | Description                         |\n",
    "|----------|-------------------------------------|\n",
    "| sedalea  | District ID (SEDA LEA ID)                        |\n",
    "| sedaleaname| District Name                    |\n",
    "| grade | Tested Grade (g)                    |\n",
    "| subject | Tested Subject (b)                    |\n",
    "| cs_mn_mfg     | Geographically Defined District grade-year-subject (gyb) Estimated Male-Female Gap Estimate, Cohort Scale (CS)   |\n",
    "\n",
    "\n",
    "\n",
    "### Covariate data (Seda Codebook Cov_geodist)\n",
    "\n",
    "| Variable | Description                         |\n",
    "|----------|-------------------------------------|\n",
    "| sedalea  | District ID (SEDA LEA ID) |\n",
    "| urban    | City/urban locale                   |\n",
    "| suburb   | Suburban locale                      |\n",
    "| town     | Town locale                          |\n",
    "| rural    | Rural locale                          |\n",
    "| grade | Grade Level                    |\n",
    "| sesall   | ses composite, eb estimate, all families, time-varying           |\n",
    "| lninc50all   | log of median income, eb estimate, all families, time-varying       |\n",
    "| povertyall   | poverty rate, eb estimate, all families, time-varying           |\n",
    "| unempall   | unemployment rate, eb estimate, all families, time-varying           |\n",
    "| snapall    | snap receipt rate, eb estimate, all families, time-varying                   |\n",
    "| perrl    | Percent reduced lunch                |\n",
    "| perfrl   | Percent free and reduced lunch       |\n",
    "| perecd   | Percent economically disadvantaged in the grade |"
   ]
  },
  {
   "cell_type": "markdown",
   "metadata": {},
   "source": [
    "### Variable Selection and Data Exploration\n",
    "\n",
    "We will identify and extract the variables of interest from our datasets. First, we'll examine the dimensions of our data, then select the relevant columns for our analysis.\n",
    "\n",
    "After downloading the codebooks from the 'data' directory and reviewing the variable documentation, we'll store the column names of interest in lists named `main_vars` and `cov_vars`."
   ]
  },
  {
   "cell_type": "code",
   "execution_count": null,
   "metadata": {
    "tags": []
   },
   "outputs": [],
   "source": [
    "print(ca_main.shape)\n",
    "print(ca_cov.shape)"
   ]
  },
  {
   "cell_type": "code",
   "execution_count": null,
   "metadata": {
    "tags": []
   },
   "outputs": [],
   "source": [
    "# storing variable names of interest\n",
    "main_vars = ca_main[['sedalea', 'sedaleaname', 'grade', 'subject', 'cs_mn_mfg']].columns  \n",
    "cov_vars = ca_cov[['sedalea', 'locale', 'grade', 'sesall', 'lninc50all', 'povertyall', 'unempall', 'snapall']].columns"
   ]
  },
  {
   "cell_type": "markdown",
   "metadata": {},
   "source": [
    "### Data Subsetting\n",
    "\n",
    "We will now extract only the columns of interest from our datasets using the variable lists we created in the previous step. This will create more focused datasets containing only the variables relevant to our analysis of achievement gaps.\n",
    "\n",
    "We'll create subsets of both the test score data and covariate data, storing the results as `main_sub` and `cov_sub`, respectively."
   ]
  },
  {
   "cell_type": "code",
   "execution_count": null,
   "metadata": {
    "tags": []
   },
   "outputs": [],
   "source": [
    "# slice columns to select variables of interest\n",
    "main_sub = ca_main[main_vars]\n",
    "cov_sub = ca_cov[cov_vars]"
   ]
  },
  {
   "cell_type": "code",
   "execution_count": null,
   "metadata": {},
   "outputs": [],
   "source": [
    "main_sub.head()"
   ]
  },
  {
   "cell_type": "code",
   "execution_count": null,
   "metadata": {},
   "outputs": [],
   "source": [
    "cov_sub.head()"
   ]
  },
  {
   "cell_type": "markdown",
   "metadata": {},
   "source": [
    "### Data Merging\n",
    "\n",
    "We will now combine our test score data with the covariate data to create a comprehensive dataset for analysis. We'll merge the datasets based on both the district ID (`sedalea`) and grade level (`grade`), ensuring that each test score observation is matched with its corresponding district-level covariates.\n",
    "\n",
    "We'll use a left join to retain all observations from the test score data while adding the relevant covariate information. The resulting merged dataset will be stored as `rawdata`.\n"
   ]
  },
  {
   "cell_type": "code",
   "execution_count": null,
   "metadata": {
    "tags": []
   },
   "outputs": [],
   "source": [
    "# merge covariates with gap data\n",
    "rawdata = pd.merge(main_sub, cov_sub, how = 'left', on = ['sedalea','grade'])\n",
    "\n",
    "# print first four rows\n",
    "rawdata.head()"
   ]
  },
  {
   "cell_type": "markdown",
   "metadata": {},
   "source": [
    "### Data Cleaning: Renaming and Reordering Columns\n",
    "\n",
    "We will now refine our merged dataset by assigning more descriptive column names and organizing them in a logical order for analysis. This will make our data more readable and easier to work with throughout our analysis.\n",
    "\n",
    "We'll rename the columns to be more intuitive and reorder them to flow from district identifiers to location and socioeconomic variables to our outcome measures (grade, subject, and gender gap)."
   ]
  },
  {
   "cell_type": "code",
   "execution_count": null,
   "metadata": {
    "tags": []
   },
   "outputs": [],
   "source": [
    "# define dictionary mapping for renaming columns\n",
    "column_name = {\"sedalea\": \"District ID\", \"sedaleaname\": \"District\", \"locale\": \"Locale\", \"lninc50all\": \"log(Median income)\",\n",
    "               \"povertyall\": \"Poverty rate\", \"unempall\": \"Unemployment rate\", \"snapall\": \"SNAP rate\", \"sesall\": \"Socioeconomic index\",\n",
    "               \"grade\": \"Grade\", \"subject\": \"Subject\", \"cs_mn_mfg\": \"Gender gap\"}\n",
    "\n",
    "# specify order of columns\n",
    "name_order = ['District ID', 'District', 'Locale', 'log(Median income)','Poverty rate', \n",
    "              'Unemployment rate', 'SNAP rate', 'Socioeconomic index', 'Grade', 'Subject', 'Gender gap']\n",
    "\n",
    "# rename and reorder\n",
    "rawdata_mod1 = rawdata.rename(columns=column_name)\n",
    "rawdata_mod1 = rawdata_mod1[name_order]\n",
    "\n",
    "# print first four rows\n",
    "rawdata_mod1.head(4)"
   ]
  },
  {
   "cell_type": "code",
   "execution_count": null,
   "metadata": {},
   "outputs": [],
   "source": [
    "rawdata_mod1.shape"
   ]
  },
  {
   "cell_type": "markdown",
   "metadata": {},
   "source": [
    "### Data Reshaping: Pivoting to Tidy Format\n",
    "\n",
    "We will now address a data structure issue where our `Gender gap` column contains values for two different variables: math test score gaps and reading test score gaps. To create a tidy dataset where each column represents a single variable, we'll pivot the table to separate these into distinct columns.\n",
    "\n",
    "We'll use the `.pivot()` method to spread the gender gap values across separate `Math gap` and `Reading gap` columns, with the subject type determining which column receives each value. This transformation will make our data easier to analyze and visualize."
   ]
  },
  {
   "cell_type": "code",
   "execution_count": null,
   "metadata": {
    "tags": []
   },
   "outputs": [],
   "source": [
    "# pivot to unstack gender gap (fixing tidy issue: multiple variables in one column)\n",
    "seda_data = rawdata_mod1.pivot(index= rawdata_mod1.columns[:-2], columns = 'Subject',\n",
    "                  values = 'Gender gap').rename(columns = {'mth' : 'Math gap', 'rla': 'Reading gap'}).reset_index()\n",
    "seda_data.columns.name = None\n",
    "\n",
    "# print first four rows\n",
    "seda_data.head()"
   ]
  },
  {
   "cell_type": "markdown",
   "metadata": {},
   "source": [
    "### Data Validation: Sanity Check After Tidying\n",
    "\n",
    "We need to verify that our data reshaping operations did not accidentally lose any observations. This is a crucial quality control step to ensure the integrity of our dataset after the pivoting transformation.\n",
    "\n",
    "We'll count the number of unique districts in our tidied dataset (`seda_data`) and compare it to the number of unique districts in the original test score data (`ca_main`). These counts should match if our data transformation preserved all observations correctly.\n",
    "\n"
   ]
  },
  {
   "cell_type": "code",
   "execution_count": null,
   "metadata": {
    "tags": []
   },
   "outputs": [],
   "source": [
    "# number of districts in tidied data compared with raw\n",
    "data_units = seda_data['District ID'].nunique()\n",
    "ca_main_units = ca_main['sedalea'].nunique()\n",
    "\n",
    "if(data_units == ca_main_units):\n",
    "    print(\"Tidying was done correctly!\")\n",
    "else:\n",
    "    print(\"ERORR: Tidying was not done correctly\")"
   ]
  },
  {
   "cell_type": "markdown",
   "metadata": {},
   "source": [
    "### Missing Data Analysis\n",
    "\n",
    "We will now examine the extent of missing data in our dataset. Gap estimates were not calculated for certain grades in certain districts due to small sample sizes (insufficient individual test records). Understanding the pattern and extent of missing data is important for interpreting our results and determining appropriate analytical approaches.\n",
    "\n",
    "We'll investigate missing data at two levels: \n",
    "* (i) the proportion of individual observations (rows) that are missing for each gap variable, and \n",
    "* (ii) the proportion of districts that have incomplete data for at least one grade level.\n"
   ]
  },
  {
   "cell_type": "code",
   "execution_count": null,
   "metadata": {
    "tags": []
   },
   "outputs": [],
   "source": [
    "# proportion of missing values\n",
    "math_missing, reading_missing = seda_data[['Math gap', 'Reading gap']].isna().sum(axis = 0) / seda_data.shape[0]\n",
    "math_missing = round(math_missing * 100, 2) \n",
    "reading_missing = round(reading_missing * 100, 2)\n",
    "\n",
    "\n",
    "# proportion of districts with missing values\n",
    "district_missing = seda_data.groupby('District ID')[['Math gap', 'Reading gap']].\\\n",
    "apply(lambda x: x.isnull().any(axis=0)).any(axis=1).mean().item()\n",
    "district_missing = round(district_missing, 2) * 100\n",
    "# apply(lambda x: x.isnull().any(axis=0)) : gets all disctrict's grade math gap and reading gap. True means missing.\n",
    "# .any(axis=1): checks if there is a True in either column of District ID.\n",
    "\n",
    "print(\"Percent Math missing:\", math_missing, \"\\nPercent Reading missing:\", reading_missing, \"\\nPercent District Missing\", district_missing)"
   ]
  },
  {
   "cell_type": "markdown",
   "metadata": {},
   "source": [
    " This analysis reveals that approximately 28% of observations are missing for both math and reading gaps, and about half of all districts have incomplete data for at least one grade level or subject area.\n"
   ]
  },
  {
   "cell_type": "markdown",
   "metadata": {},
   "source": [
    "### Investigating Missing Data Patterns in Education Achievement\n",
    "\n",
    "As part of our investigation into education data quality, we're examining whether certain types of school districts are more likely to have missing information about math and reading achievement gaps. This analysis will help us understand potential data collection disparities and whether certain communities might be systematically underrepresented in education reporting.\n",
    "\n",
    "We should expect that some locales are more likely to have missing data. It is reasonable to infer that rural areas to be more likely to have missing data, as there is often little communication between rural places and the state government, primarily due to the state government's structure. Most rural areas are \"lower income\" compared to places such as Los Angeles and San Francisco, so there will be potential bias in that regard."
   ]
  },
  {
   "cell_type": "markdown",
   "metadata": {
    "tags": []
   },
   "source": [
    "#### Data Quality Assessment: Missing Achievement Gap Information\n",
    "\n",
    "We are conducting a **data quality check** on our education dataset to identify missing information about academic achievement gaps across different geographic locations.\n",
    "\n",
    "#### What We're Analyzing\n",
    "\n",
    "Our analysis examines:\n",
    "- **Math gap** and **Reading gap** data - measures of academic achievement disparities\n",
    "- **Locale categories** - different geographic area types (urban, suburban, rural, etc.)"
   ]
  },
  {
   "cell_type": "code",
   "execution_count": null,
   "metadata": {},
   "outputs": [],
   "source": [
    "seda_data.groupby(['Locale'], observed=False)[['Math gap', 'Reading gap']].apply(lambda x: x.isnull().sum())"
   ]
  },
  {
   "cell_type": "markdown",
   "metadata": {},
   "source": [
    "Based on the table, our guess was correct. There is a significant amount of missing data from Rural areas. At a glance, they appear to represent half of the missing data for test scores.\n",
    "\n",
    "Examining the Locales column, we notice a typo for `Sururb, Small.` We will correct this when creating our bar chart to see the disparities in missing test scores by locale."
   ]
  },
  {
   "cell_type": "code",
   "execution_count": null,
   "metadata": {},
   "outputs": [],
   "source": [
    "# Fix Sururb, Small typo\n",
    "seda_data['Locale'] = seda_data['Locale'].replace('Sururb, Small', 'Suburb, Small')"
   ]
  },
  {
   "cell_type": "code",
   "execution_count": null,
   "metadata": {},
   "outputs": [],
   "source": [
    "seda_data.head()"
   ]
  },
  {
   "cell_type": "code",
   "execution_count": null,
   "metadata": {},
   "outputs": [],
   "source": [
    "temp_seda = seda_data.copy()\n",
    "temp_seda['Income bracket'] = pd.cut(np.e**seda_data['log(Median income)'], 8)\n",
    "result = temp_seda.groupby(['Locale', 'Income bracket'], observed=False)[['Math gap', 'Reading gap']].apply(lambda x: x.isnull().sum())"
   ]
  },
  {
   "cell_type": "code",
   "execution_count": null,
   "metadata": {},
   "outputs": [],
   "source": [
    "temp_seda.groupby(['Income bracket'], observed=False)[['Math gap', 'Reading gap']].apply(lambda x: x.isnull().sum())"
   ]
  },
  {
   "cell_type": "code",
   "execution_count": null,
   "metadata": {},
   "outputs": [],
   "source": [
    "# Get the missing values by locale\n",
    "missing_by_locale = seda_data.groupby(['Locale'], observed=False)[['Math gap', 'Reading gap']].apply(lambda x: x.isnull().sum())\n",
    "\n",
    "# Extract the main locale type (before the comma) and reset index\n",
    "missing_df = missing_by_locale.reset_index()\n",
    "missing_df['Main Locale'] = missing_df['Locale'].str.split(',').str[0]\n",
    "\n",
    "# Group by main locale type and sum the missing values\n",
    "grouped_missing = missing_df.groupby('Main Locale')[['Math gap', 'Reading gap']].sum().reset_index()\n",
    "\n",
    "# Reshape data to long format for Altair\n",
    "long_data = pd.melt(grouped_missing, \n",
    "                    id_vars=['Main Locale'], \n",
    "                    value_vars=['Math gap', 'Reading gap'],\n",
    "                    var_name='Gap Type', \n",
    "                    value_name='Missing Count')\n",
    "\n",
    "# Alternative: Side-by-side bars\n",
    "chart = alt.Chart(long_data).mark_bar().encode(\n",
    "    y=alt.Y('Main Locale:N', title='Locale Type'),\n",
    "    x=alt.X('Missing Count:Q', title='Number of Missing Values'),\n",
    "    color=alt.Color('Gap Type:N', legend=alt.Legend(title=None, labelFontSize=12)), # title='Achievement Gap Type'\n",
    "    yOffset=alt.YOffset('Gap Type:N'),\n",
    "    tooltip=['Main Locale:N', 'Gap Type:N', 'Missing Count:Q']\n",
    ").properties(\n",
    "    width=800,\n",
    "    height=400,\n",
    "    title='Missing Values in Achievement Gap Data by Locale Type'\n",
    ").configure_legend(\n",
    "    orient='none',\n",
    "    direction='horizontal',\n",
    "    legendX = 300,\n",
    "    legendY = -40,\n",
    "    padding= 10  # Add padding around legend\n",
    ")\n",
    "\n",
    "chart.show()"
   ]
  },
  {
   "cell_type": "markdown",
   "metadata": {},
   "source": [
    "<!-- END QUESTION -->\n",
    "\n",
    "# Exploratory graphics\n",
    "\n",
    "For the purpose of visualizing the relationship between estimated gender gaps and socioeconomic variables, you'll find it more helpful to store a non-tidy version of the data. The cell below rearranges the dataset so that one column contains an estimated gap, one column contains the value of a socioeconomic variable, and the remaining columns record the gap type and variable identity. \n",
    "\n",
    "Ensure that your results above match the reference dataset before running this cell."
   ]
  },
  {
   "cell_type": "code",
   "execution_count": null,
   "metadata": {},
   "outputs": [],
   "source": [
    "# format data for plotting\n",
    "plot_df = seda_data.melt(\n",
    "    id_vars = name_order[0:9],\n",
    "    value_vars = ['Math gap', 'Reading gap'],\n",
    "    var_name = 'Gap type',\n",
    "    value_name = 'Gap'\n",
    ").melt(\n",
    "    id_vars = ['District ID', 'District', 'Locale', 'Gap type', 'Gap', 'Grade'],\n",
    "    value_vars = name_order[3:8],\n",
    "    var_name = 'Socioeconomic variable',\n",
    "    value_name = 'Measure'\n",
    ")\n",
    "\n",
    "# preview\n",
    "plot_df.head()"
   ]
  },
  {
   "cell_type": "markdown",
   "metadata": {},
   "source": [
    "## Gender gaps and socioeconomic factors\n",
    "\n",
    "The cell below generates a panel of scatter plots showing the relationship between the estimated gender gap and socioeconomic factors for all grade levels by test subject. The plot suggests that the reading gap favors girls consistently across the socioeconomic spectrum -- in a typical district, girls seem to outperform boys by 0.25 standard deviations of the national average. By contrast, the math gap appears to depend on socioeconomic factors — boys only seem to outperform girls under *better* socioeconomic conditions.  \n"
   ]
  },
  {
   "cell_type": "code",
   "execution_count": null,
   "metadata": {},
   "outputs": [],
   "source": [
    "# plot gap against socioeconomic variables by subject for all grades\n",
    "fig1 = alt.Chart(plot_df).mark_circle(opacity = 0.1).encode(\n",
    "    y = 'Gap',\n",
    "    x = alt.X('Measure', scale = alt.Scale(zero = False), title = ''),\n",
    "    color = 'Gap type'\n",
    ").properties(\n",
    "    width = 400,\n",
    "    height = 200\n",
    ").facet(\n",
    "    column = alt.Column('Socioeconomic variable')\n",
    ").resolve_scale(x = 'independent')\n",
    "\n",
    "fig1"
   ]
  },
  {
   "cell_type": "markdown",
   "metadata": {},
   "source": [
    "## Grade-Level Analysis: Examining Relationships Across Educational Stages\n",
    "\n",
    "We will now investigate whether the relationships between achievement gaps and socioeconomic factors remain consistent across different grade levels. This analysis will help us understand if the patterns we observed in our previous exploration persist throughout students' educational progression or if they vary by academic stage.\n",
    "\n",
    "We'll develop a comprehensive visualization featuring a 5×5 grid of scatterplots. Each column represents a different socioeconomic variable, while each row depicts a specific grade level. This facetted setup enables us to systematically analyze how the relationship between achievement gaps and socioeconomic factors varies both across different district measures and educational stages."
   ]
  },
  {
   "cell_type": "code",
   "execution_count": null,
   "metadata": {},
   "outputs": [],
   "source": [
    "base = alt.Chart(plot_df).mark_circle(opacity = 0.1).encode( # https://altair-viz.github.io/user_guide/compound_charts.html\n",
    "    y = alt.Y('Gap', axis=alt.Axis(orient='left')),\n",
    "    x = alt.X('Measure', scale = alt.Scale(zero = False), title = ''),\n",
    "    color = 'Gap type'\n",
    ")\n",
    "\n",
    "# trend line  \n",
    "trend = alt.Chart(plot_df).transform_regression(\n",
    "    groupby = ['Gap type', 'Grade'],\n",
    "    on = 'Measure', \n",
    "    regression = 'Gap'\n",
    ").mark_line().encode(\n",
    "    x = 'Measure',\n",
    "    y = alt.Y('Gap', axis=alt.Axis(orient='left')),\n",
    "    color = 'Gap type'\n",
    ")\n",
    "\n",
    "# y-axis (just for the right axis)\n",
    "secondary_axis = alt.Chart(plot_df).mark_point(opacity=0).encode(\n",
    "    x = alt.X('Measure', scale = alt.Scale(zero = False)),\n",
    "    y = alt.Y('Gap', axis=alt.Axis(orient='right', title=''))\n",
    ")\n",
    "\n",
    "# Combine all layers\n",
    "fig2 = (base + trend + secondary_axis).properties(\n",
    "    width = 350,\n",
    "    height = 150\n",
    ").facet(\n",
    "    column = 'Socioeconomic variable',\n",
    "    row = 'Grade'\n",
    ").resolve_scale(x = 'independent')\n",
    "\n",
    "fig2"
   ]
  },
  {
   "cell_type": "markdown",
   "metadata": {},
   "source": [
    "### Key Observations\n",
    "\n",
    "* Reading gaps consistently favor girls across all socioeconomic levels and grade levels, with relatively flat gradients showing minimal sensitivity to socioeconomic conditions.\n",
    "\n",
    "* Math gaps exhibit systematic socioeconomic sensitivity, as socioeconomic status improves (higher income, lower poverty/SNAP rates, higher SES index), math gaps generally shift toward favoring boys or approach parity.\n",
    "\n",
    "* Patterns are consistently observed across various SES indicators—whether looking at poverty rates, SNAP participation, unemployment, or median income—the directional relationships between socioeconomic status and gender gaps stay stable.\n",
    "\n",
    "While these various socioeconomic indicators all show similar patterns in gender achievement gaps, median income provides the clearest and simplest way to measure family economic resources. To better understand how socioeconomic status affects gender gaps in academic achievement, we will focus our detailed analysis on income differences across grade levels.\n"
   ]
  },
  {
   "cell_type": "code",
   "execution_count": null,
   "metadata": {},
   "outputs": [],
   "source": [
    "base = alt.Chart(plot_df).mark_circle(opacity = 0.1).transform_filter(\n",
    "    alt.datum['Socioeconomic variable'] == 'log(Median income)'\n",
    ").encode(\n",
    "    y = alt.Y('Gap', axis=alt.Axis(orient='left')),\n",
    "    x = alt.X('Measure', scale = alt.Scale(zero = False), title = ''),\n",
    "    color = 'Gap type'\n",
    ")\n",
    "\n",
    "# trend line  \n",
    "trend = alt.Chart(plot_df).transform_filter(\n",
    "    alt.datum['Socioeconomic variable'] == 'log(Median income)'\n",
    ").transform_regression(\n",
    "    groupby = ['Gap type', 'Grade'],\n",
    "    on = 'Measure', \n",
    "    regression = 'Gap'\n",
    ").mark_line().encode(\n",
    "    x = 'Measure',\n",
    "    y = alt.Y('Gap', axis=alt.Axis(orient='left')),\n",
    "    color = 'Gap type'\n",
    ")\n",
    "\n",
    "# y-axis (just for the right axis)\n",
    "secondary_axis = alt.Chart(plot_df).mark_point(opacity=0).transform_filter(\n",
    "    alt.datum['Socioeconomic variable'] == 'log(Median income)'\n",
    ").encode(\n",
    "    x = alt.X('Measure', scale = alt.Scale(zero = False)),\n",
    "    y = alt.Y('Gap', axis=alt.Axis(orient='right', title=''))\n",
    ")\n",
    "\n",
    "# Combine all layers\n",
    "fig2 = (base + trend + secondary_axis).properties(\n",
    "    width = 350,\n",
    "    height = 250\n",
    ").facet(\n",
    "    column = 'Grade'  # Removed column faceting since we're only showing one socioeconomic variable\n",
    ").resolve_scale(x = 'independent')\n",
    "\n",
    "fig2"
   ]
  },
  {
   "cell_type": "markdown",
   "metadata": {},
   "source": [
    "\n",
    "### Math Gap Pattern\n",
    "\n",
    "* Variable direction: The math gap fluctuates, sometimes favoring girls, sometimes boys, or showing parity, depending on grade level and income level.\n",
    "\n",
    "* Consistent income gradient: The slope stays the same across all levels — as income rises, the gap usually shifts in favor of boys (or toward equality).\n",
    "\n",
    "* Variable baseline gap: The starting point at low-income levels varies widely by grade, ranging from parity (grade 4) to significant gaps favoring girls (grades 6 and 8).\n",
    "\n",
    "Grade-specific pattern:\n",
    "\n",
    "* Grade 4: Gender parity at low-income levels, but a gap emerges favoring boys as income increases.\n",
    "\n",
    "* Grade 5: Initial gap slightly favors girls, though not significantly, converges to parity around middle-income levels, then shifts to favor boys\n",
    "\n",
    "* Grade 6: Large initial gap favoring girls, equalizes by middle-income, slight boy advantage at high-income.\n",
    "\n",
    "* Grade 7: Moderate initial gap favoring girls, then converges to parity by middle-income levels, with minimal differences at high income.\n",
    "\n",
    "* Grade 8: Substantial initial gap favoring girls, maintaining a slight girl advantage through middle income levels, then converging to parity at high income.\n",
    "  \n",
    "While the income gradient stays consistent across grades 4-8, the baseline gender gap at low-income levels varies significantly by grade.\n",
    "\n",
    "#### Takeaway\n",
    "\n",
    "1. **Highly sensitive to socioeconomic status** (significant income gradient effect)\n",
    "2. **Gender advantage varies** across different grade and income levels.\n",
    "3. **Baseline gap varies** (different baseline gaps at each grade level)\n",
    "\n",
    "### Reading Gap Pattern\n",
    "\n",
    "* Consistent trend: Girls outperform boys in reading at all grade and income levels.\n",
    "\n",
    "* Flat income gradient: The reading gap stays fairly consistent across different income levels in each grade.\n",
    "\n",
    "* Widening baseline gap: The size of the gap favoring girls grows steadily from grade 4 to grade 8.\n",
    "\n",
    "\n",
    "Grade-speific pattern:\n",
    "\n",
    "* Grade 4: Modest reading gap favoring girls.\n",
    "\n",
    "* Grade 5: Gap widens slightly compared to grade 4.\n",
    "\n",
    "* Grades 6-8: Gap continues to widen, with grade 8 showing the largest reading advantage for girls.\n",
    "\n",
    "The reading gap favors girls throughout all grade levels. The income gradient stays consistent across all grade levels; however the basleine gender gap at all income levels widens after each grade level, favoring girls.\n",
    "\n",
    "#### Takeaway\n",
    "\n",
    "While the gender gap in math is highly sensitive to socioeconomic status and can change in direction, the gender gap in reading is: \n",
    "\n",
    "1. **Stable across income levels** (no income gradient) \n",
    "2. **Consistently favors girls** at all income levels \n",
    "3. **Grows larger with age/grade level** (widening baseline gap)\n"
   ]
  },
  {
   "cell_type": "markdown",
   "metadata": {},
   "source": [
    "## Creating District-Level Achievement Data\n",
    "\n",
    "To analyze patterns across school districts rather than individual grades, we need to consolidate our grade-level data into district-level summaries. This aggregation will allow us to examine how achievement gaps vary between districts while incorporating important socioeconomic characteristics.\n",
    "\n",
    "### Data Transformation Process\n",
    "\n",
    "Our original dataset contains multiple records per district (one for each grade level tested). To create a comprehensive district-level analysis, we're computing average achievement gaps across all grades within each district while preserving the socioeconomic variables that characterize each district.\n",
    "\n",
    "### Methodology\n",
    "\n",
    "Since socioeconomic variables like median income and locale type are consistent across all grades within a district, we can safely aggregate the achievement data while maintaining these important contextual variables.\n"
   ]
  },
  {
   "cell_type": "code",
   "execution_count": null,
   "metadata": {},
   "outputs": [],
   "source": [
    "seda_data_agg = seda_data.drop_duplicates(subset=['District ID']).reset_index().drop(columns='index')\n",
    "seda_data_agg['Math gap'] = seda_data.groupby(['District ID'])['Math gap'].mean().values\n",
    "seda_data_agg['Reading gap'] = seda_data.groupby(['District ID'])['Reading gap'].mean().values\n",
    "seda_data_agg.head()"
   ]
  },
  {
   "cell_type": "markdown",
   "metadata": {},
   "source": [
    "### Reshaping Data for Visualization\n",
    "\n",
    "To create effective visualizations comparing math and reading achievement gaps, we need to restructure our district-level data from a \"wide\" format (separate columns for Math gap and Reading gap) to a \"long\" format where both gap types are stacked in a single column.\n",
    "\n",
    "### Data Transformation\n",
    "\n",
    "This reshaping process, known as \"melting,\" will allow us to easily create comparative plots and analyze both subjects together using visualization libraries.\n"
   ]
  },
  {
   "cell_type": "code",
   "execution_count": null,
   "metadata": {
    "tags": []
   },
   "outputs": [],
   "source": [
    "# format data for plotting\n",
    "agg_plot_df = seda_data_agg.melt(\n",
    "    id_vars = ['District ID','log(Median income)',\n",
    "       'Poverty rate', 'Unemployment rate', 'SNAP rate', 'Socioeconomic index'],\n",
    "    value_vars = ['Math gap', 'Reading gap'],\n",
    "    var_name = 'Subject',\n",
    "    value_name = 'Gap'\n",
    ").rename(columns={'Gap':'Average estimated gap'})\n",
    "\n",
    "agg_plot_df.head()"
   ]
  },
  {
   "cell_type": "markdown",
   "metadata": {},
   "source": [
    "### District average gaps\n",
    "\n",
    "We will construct a scatterplot of the average estimated gap against log(Median income) by subject for each district and add trend lines.\n"
   ]
  },
  {
   "cell_type": "markdown",
   "metadata": {},
   "source": [
    "There is a gap but only in math. As median increases, the math gap increases as well. The reading gap stays consistent throughout median income."
   ]
  },
  {
   "cell_type": "code",
   "execution_count": null,
   "metadata": {
    "tags": []
   },
   "outputs": [],
   "source": [
    "# scatterplot\n",
    "scatter = alt.Chart(agg_plot_df).transform_filter(\n",
    "    alt.FieldOneOfPredicate(field = 'Subject',\n",
    "                            oneOf = ['Math gap', 'Reading gap'])\n",
    ").mark_circle(opacity = 0.5).encode(\n",
    "    y = alt.Y('Average estimated gap', scale = alt.Scale(zero = False)),\n",
    "    x = alt.X('log(Median income)', scale = alt.Scale(zero = False)),\n",
    "    color = alt.Color('Subject', legend=alt.Legend(title=None, labelFontSize=14))\n",
    ")\n",
    "\n",
    "# trend line\n",
    "trend = scatter.transform_regression(\n",
    "    groupby = ['Subject'],\n",
    "    on = 'log(Median income)', \n",
    "    regression = 'Average estimated gap'\n",
    ").mark_line(color = 'black')\n",
    "\n",
    "# combine layers\n",
    "fig4 = (scatter + trend).properties(\n",
    "    width = 800,\n",
    "    height = 400,\n",
    "    title=\"Math and Reading Gap by Income\"\n",
    ").configure_legend(\n",
    "    orient='none',\n",
    "    direction='horizontal',\n",
    "    legendX = 300,\n",
    "    legendY = -40,\n",
    "    padding= 10  # Add padding around legend\n",
    ")\n",
    "\n",
    "# display\n",
    "fig4"
   ]
  },
  {
   "cell_type": "markdown",
   "metadata": {},
   "source": [
    "## Introducing Income Bracket\n",
    "\n",
    "Now let's try to capture this pattern in *tabular* form. The cell below adds an `Income bracket` variable by cutting the median income into 8 contiguous intervals using `pd.cut()`, and tabulates the average socioeconomic measures and estimated gaps across districts by income bracket. Notice that with respect to the gaps, this displays the pattern that is shown visually in the figures above. "
   ]
  },
  {
   "cell_type": "code",
   "execution_count": null,
   "metadata": {},
   "outputs": [],
   "source": [
    "seda_data_agg = seda_data.drop_duplicates(subset=['District ID']).reset_index().drop(columns='index')\n",
    "seda_data_agg['Math gap'] = seda_data.groupby(['District ID'])['Math gap'].mean().values\n",
    "seda_data_agg['Reading gap'] = seda_data.groupby(['District ID'])['Reading gap'].mean().values"
   ]
  },
  {
   "cell_type": "code",
   "execution_count": null,
   "metadata": {},
   "outputs": [],
   "source": [
    "seda_data_agg['Income bracket'] = pd.cut(np.e**seda_data_agg['log(Median income)'], 8)\n",
    "seda_data_agg.groupby('Income bracket', observed=False).mean(numeric_only=True).drop(columns = ['District ID', 'log(Median income)'])"
   ]
  },
  {
   "cell_type": "markdown",
   "metadata": {},
   "source": [
    "### Analyzing Gender Achievement Gaps in Mathematics Across Income Levels\n",
    "\n",
    "As part of our investigation into education equity, we're examining whether math achievement gaps between boys and girls vary systematically across different income brackets. This analysis will help us understand if socioeconomic factors influence gender-based academic performance differences.\n",
    "\n",
    "This analysis helps us determine whether socioeconomic factors affect gender-based differences in academic performance. This approach differs significantly from our previous grade-by-grade analysis in several key ways: while our earlier study used continuous income measures to track how gaps changed along income levels within each specific grade (4-8), this analysis combines math performance across all grades to produce an overall district-level gap score. It then groups districts into distinct income brackets and classifies gap outcomes as favoring boys, girls, or neither. Instead of focusing on slopes and baseline differences across developmental stages, we are now exploring whether entire school districts in different economic contexts exhibit systematically different patterns in their overall gender achievement gaps.\n",
    "\n",
    "**Research focus:** What proportion of school districts in each income bracket show math achievement gaps that favor boys? Do wealthier or poorer districts show different patterns in gender-based math performance gaps?\n",
    "\n",
    "### Data Preparation and Analysis\n",
    "\n",
    "We'll create categories to identify districts where boys significantly outperform girls in math (more than 0.1 standard deviations above the national average), and then examine how these patterns distribute across income levels.\n"
   ]
  },
  {
   "cell_type": "code",
   "execution_count": null,
   "metadata": {},
   "outputs": [],
   "source": [
    "# Drop rows with missing Math gap values before creating categories\n",
    "seda_data_agg = seda_data_agg.dropna(subset=['Math gap'])\n",
    "\n",
    "# define indicator\n",
    "seda_data_agg = seda_data_agg.assign(\n",
    "    **{\n",
    "        'Math gap favoring boys': seda_data_agg['Math gap'] > 0.1,\n",
    "        'Math gap favoring girls': seda_data_agg['Math gap'] < -0.1,\n",
    "        'Math gap favoring neither': seda_data_agg['Math gap'].between(-0.1, 0.1, inclusive='both')\n",
    "    }\n",
    ")\n",
    "\n",
    "# proportion of districts with gap favoring boys, by income bracket\n",
    "income_bracket_boys_favored = seda_data_agg.groupby('Income bracket', observed=True).agg({\n",
    "    'Math gap favoring boys' : ['count', 'sum', 'mean'], # Get total districts per income bracket, count how many districts favor boys per income bracket, percent that favor boys\n",
    "    'Math gap favoring girls': ['sum', 'mean'], # Districts favoring girls, percent favoring girls\n",
    "    'Math gap favoring neither': ['sum', 'mean'] # Districts favoring neither, percent favoring neither\n",
    "}) #.round(2)\n",
    "\n",
    "income_bracket_boys_favored.columns = ['Total Districts', 'Districts Favoring Boys', 'Percent Favoring Boys', \n",
    "'Districts Favoring Girls', 'Percent Favoring Girls', \n",
    "'Districts Favoring Neither', 'Percent Favoring Neither']\n",
    "\n",
    "# Round only the percentage columns at the end\n",
    "percentage_columns = ['Percent Favoring Boys', 'Percent Favoring Girls', 'Percent Favoring Neither']\n",
    "income_bracket_boys_favored[percentage_columns] = income_bracket_boys_favored[percentage_columns].round(3)\n",
    "\n",
    "income_bracket_boys_favored.reset_index(inplace=True)\n",
    "\n",
    "# print result\n",
    "income_bracket_boys_favored"
   ]
  },
  {
   "cell_type": "code",
   "execution_count": null,
   "metadata": {},
   "outputs": [],
   "source": [
    "chart1_data = income_bracket_boys_favored.melt(\n",
    "    id_vars=['Income bracket'],\n",
    "    value_vars= income_bracket_boys_favored.columns[1:], # ['Total Districts', 'Districts Favoring Boys', 'Percent Favoring Boys'], \n",
    "    var_name='Category', # 'Category'\n",
    "    value_name='Metric'\n",
    ")\n",
    "\n",
    "# print(chart1_data.head())"
   ]
  },
  {
   "cell_type": "code",
   "execution_count": null,
   "metadata": {},
   "outputs": [],
   "source": [
    "# Filter to only the percentage data\n",
    "# Filter to only the percentage data (excludes raw counts)\n",
    "percent_data = chart1_data[chart1_data['Category'].str.contains('Percent')].copy()\n",
    "percent_data['Income bracket'] = percent_data['Income bracket'].astype(str)\n",
    "\n",
    "# Define income bracket order from lowest to highest income\n",
    "income_order = [\n",
    "    '(21980.176, 46455.372]',\n",
    "    '(46455.372, 70736.321]', \n",
    "    '(70736.321, 95017.269]',\n",
    "    '(95017.269, 119298.218]',\n",
    "    '(119298.218, 143579.167]',\n",
    "    '(143579.167, 167860.115]',\n",
    "    '(167860.115, 192141.064]',\n",
    "    '(192141.064, 216422.013]'\n",
    "]"
   ]
  },
  {
   "cell_type": "markdown",
   "metadata": {},
   "source": [
    "#### Visualization: Gender Achievement Patterns by Income Level\n",
    "\n",
    "We'll create a horizontal stacked bar chart to visualize how gender-based math achievement gaps distribute across different income brackets."
   ]
  },
  {
   "cell_type": "code",
   "execution_count": null,
   "metadata": {},
   "outputs": [],
   "source": [
    "# Math Gap by Income Bracket - Horizontal Stacked Bar Chart\n",
    "\n",
    "# Create base chart object\n",
    "base = alt.Chart(percent_data)\n",
    "\n",
    "# Create horizontal stacked bar chart\n",
    "bars = base.mark_bar().encode(\n",
    "    y=alt.Y('Income bracket:O', sort=income_order, title=None, \n",
    "    axis=alt.Axis(\n",
    "            ticks=False,     # Hide y-axis ticks\n",
    "            grid=False,      # Hide grid lines\n",
    "            title=None       # Hide y-axis title\n",
    "        )),\n",
    "    x=alt.X('Metric:Q', \n",
    "        scale=alt.Scale(domain=[0, 1]),\n",
    "        axis=None\n",
    "    ),\n",
    "    # Color scheme\n",
    "    color=alt.Color('Category:N', \n",
    "                   scale=alt.Scale(scheme='set2'), # https://vega.github.io/vega/docs/schemes/\n",
    "                   #scale=alt.Scale(range=['#4A90E2', '#F5A623', '#7B68EE']),\n",
    "                   legend=alt.Legend(title=None, labelFontSize=12)),\n",
    "    order=alt.Order('Category:N', sort='ascending')\n",
    ")\n",
    "\n",
    "# Add percentage labels positioned at center of each bar segment\n",
    "text = base.mark_text(\n",
    "    align='center',\n",
    "    baseline='middle', \n",
    "    fontSize=11,\n",
    "    color='white',\n",
    "    fontWeight='bold'\n",
    ").encode(\n",
    "    y=alt.Y('Income bracket:O', sort=income_order),\n",
    "    x=alt.X('x_position:Q', scale=alt.Scale(domain=[0, 1])),\n",
    "    text=alt.Text('Metric:Q', format='.0%'),\n",
    "    order=alt.Order('Category:N', sort='ascending')\n",
    ").transform_window(\n",
    "    # Calculate cumulative sum for proper stacking\n",
    "    cumulative_sum='sum(Metric)',\n",
    "    groupby=['Income bracket'],\n",
    "    sort=[{'field': 'Category', 'order': 'ascending'}]\n",
    ").transform_calculate(\n",
    "    # Position text at center of each segment\n",
    "    x_position='datum.cumulative_sum - datum.Metric/2'  \n",
    ").transform_filter(\n",
    "    # Only show labels for segments > 3% to avoid clutter\n",
    "    alt.datum.Metric > 0.03  \n",
    ")\n",
    "\n",
    "# Combine bars and text labels\n",
    "chart = (bars + text).resolve_scale(\n",
    "    color='independent'\n",
    ").properties(\n",
    "    width=750,\n",
    "    height=400,\n",
    "    title=\"Math Gap by Income Bracket\"\n",
    ").configure_legend(\n",
    "    orient='none',\n",
    "    direction='horizontal',\n",
    "    legendX = 120,\n",
    "    legendY = -40,\n",
    "    padding= 10  # Add padding around legend\n",
    ")\n",
    "# Make Ineractive search \n",
    "chart"
   ]
  },
  {
   "cell_type": "markdown",
   "metadata": {},
   "source": [
    "### Statewide averages\n",
    "\n"
   ]
  },
  {
   "cell_type": "code",
   "execution_count": null,
   "metadata": {
    "tags": []
   },
   "outputs": [],
   "source": [
    "# statewide average\n",
    "avg = np.array([seda_data_agg['Math gap'].mean(), seda_data_agg['Reading gap'].mean()])\n",
    "d = {'Math gap': [avg[0]], 'Reading gap': [avg[1]]}\n",
    "df = pd.DataFrame(data=d)\n",
    "state_avg = df\n",
    "\n",
    "# statewide average\n",
    "state_avg = seda_data_agg.loc[:, ['Reading gap', 'Math gap']].mean() \n",
    "\n",
    "\n",
    "# proportion of districts in the state with a math gap favoring boys\n",
    "math_boys_proportion = seda_data_agg['Math gap favoring boys'].mean()\n",
    "\n",
    "# proportion of districts in the state with a math gap favoring girls\n",
    "seda_data_agg['Math gap favoring girls'] = np.where(seda_data_agg['Math gap'] < -0.1, True, False)\n",
    "math_girls_proportion = seda_data_agg['Math gap favoring girls'].mean()"
   ]
  },
  {
   "cell_type": "code",
   "execution_count": null,
   "metadata": {},
   "outputs": [],
   "source": [
    "state_avg"
   ]
  },
  {
   "cell_type": "code",
   "execution_count": null,
   "metadata": {},
   "outputs": [],
   "source": [
    "math_boys_proportion"
   ]
  },
  {
   "cell_type": "code",
   "execution_count": null,
   "metadata": {},
   "outputs": [],
   "source": [
    "math_girls_proportion"
   ]
  },
  {
   "cell_type": "markdown",
   "metadata": {},
   "source": [
    "# Conclusion and Limitations\n",
    "\n",
    "Take a moment to review and reflect on your findings and consider what you have learned from the analysis."
   ]
  }
 ],
 "metadata": {
  "kernelspec": {
   "display_name": "Python 3",
   "language": "python",
   "name": "python3"
  },
  "language_info": {
   "codemirror_mode": {
    "name": "ipython",
    "version": 3
   },
   "file_extension": ".py",
   "mimetype": "text/x-python",
   "name": "python",
   "nbconvert_exporter": "python",
   "pygments_lexer": "ipython3",
   "version": "3.13.3"
  },
  "otter": {
   "OK_FORMAT": true,
   "tests": {
    "q10": {
     "name": "q10",
     "points": 1,
     "suites": [
      {
       "cases": [
        {
         "code": ">>> # they should be equal\n>>> data_units == ca_main_units\nTrue",
         "hidden": false,
         "locked": false
        }
       ],
       "scored": true,
       "setup": "",
       "teardown": "",
       "type": "doctest"
      }
     ]
    },
    "q11": {
     "name": "q11",
     "points": 1,
     "suites": [
      {
       "cases": [
        {
         "code": ">>> # the proportion of missing district math scores is within this interval\n>>> 0 < math_missing < 0.5\nTrue",
         "hidden": false,
         "locked": false
        },
        {
         "code": ">>> # the proportion of missing district reading scores is within this interval\n>>> 0 < reading_missing < 0.5\nTrue",
         "hidden": false,
         "locked": false
        },
        {
         "code": ">>> # the proportion of districts with at least one missing score is within this interval\n>>> 0.5 < district_missing < 0.6\nTrue",
         "hidden": false,
         "locked": false
        }
       ],
       "scored": true,
       "setup": "",
       "teardown": "",
       "type": "doctest"
      }
     ]
    },
    "q15": {
     "name": "q15",
     "points": 1,
     "suites": [
      {
       "cases": [
        {
         "code": ">>> # district-level variables shouldn't change\n>>> (seda_data_agg.set_index('District ID').loc[600001, 'log(Median income)'] == seda_data.set_index('District ID').loc[600001, 'log(Median income)'].unique()).all()\nTrue",
         "hidden": false,
         "locked": false
        },
        {
         "code": ">>> # should obtain one row per district\n>>> seda_data['District ID'].nunique() == seda_data_agg.shape[0]\nTrue",
         "hidden": false,
         "locked": false
        },
        {
         "code": ">>> # check one entry\n>>> (seda_data.set_index('District ID').loc[619800, 'Math gap':'Reading gap'].mean().values.round(6) == seda_data_agg.set_index('District ID').loc[[619800], 'Math gap':'Reading gap'].values.round(6)).all()\nTrue",
         "hidden": false,
         "locked": false
        }
       ],
       "scored": true,
       "setup": "",
       "teardown": "",
       "type": "doctest"
      }
     ]
    },
    "q16": {
     "name": "q16",
     "points": 1,
     "suites": [
      {
       "cases": [
        {
         "code": ">>> # number of rows should double\n>>> agg_plot_df.shape[0] == 2*seda_data_agg.shape[0]\nTrue",
         "hidden": false,
         "locked": false
        },
        {
         "code": ">>> # check columns\n>>> (np.sort(agg_plot_df.columns) == np.sort(['District ID', 'log(Median income)', 'Poverty rate', \n...                         'Unemployment rate', 'SNAP rate', 'Socioeconomic index', 'Subject',\n...                         'Average estimated gap'])).all()\nTrue",
         "hidden": false,
         "locked": false
        }
       ],
       "scored": true,
       "setup": "",
       "teardown": "",
       "type": "doctest"
      }
     ]
    },
    "q18": {
     "name": "q18",
     "points": 1,
     "suites": [
      {
       "cases": [
        {
         "code": ">>> # the number of columns for data_agg has increased\n>>> seda_data_agg.shape[1] > 9\nTrue",
         "hidden": false,
         "locked": false
        },
        {
         "code": ">>> # the new column added is a boolean that indicates whether the math gap favors boys for that district and income bracket\n>>> seda_data_agg[\"Math gap favoring boys\"].dtype == \"bool\"\nTrue",
         "hidden": false,
         "locked": false
        },
        {
         "code": ">>> # the number of rows (income bracket levels) is 8 and the number of columns is 2\n>>> income_bracket_boys_favored.shape == (8,2)\nTrue",
         "hidden": false,
         "locked": false
        }
       ],
       "scored": true,
       "setup": "",
       "teardown": "",
       "type": "doctest"
      }
     ]
    },
    "q19": {
     "name": "q19",
     "points": 1,
     "suites": [
      {
       "cases": [
        {
         "code": ">>> # will be subset by Reading Gap and Math Gap\n>>> state_avg.shape == (2,)\nTrue",
         "hidden": false,
         "locked": false
        },
        {
         "code": ">>> # average shows that girls do better\n>>> -0.5 < state_avg[\"Reading gap\"] < 0\nTrue",
         "hidden": false,
         "locked": false
        },
        {
         "code": ">>> # average shows that girls do better\n>>> -0.1 < state_avg[\"Math gap\"] < 0\nTrue",
         "hidden": false,
         "locked": false
        },
        {
         "code": ">>> # the proportion of districts that favors boys is within this interval\n>>> 0 < math_boys_proportion < 0.1\nTrue",
         "hidden": false,
         "locked": false
        },
        {
         "code": ">>> # the proportion of districts that favors girls is within this interval\n>>> 0.1 < math_girls_proportion < 0.2\nTrue",
         "hidden": false,
         "locked": false
        }
       ],
       "scored": true,
       "setup": "",
       "teardown": "",
       "type": "doctest"
      }
     ]
    },
    "q3": {
     "name": "q3",
     "points": 1,
     "suites": [
      {
       "cases": [
        {
         "code": ">>> # number of districts provided are between 900 and 1000\n>>> 900 < ca_cov_units < 1000\nTrue",
         "hidden": false,
         "locked": false
        },
        {
         "code": ">>> # number of districts provided are between 800 and 900\n>>> 800 < ca_main_units < 900\nTrue",
         "hidden": false,
         "locked": false
        }
       ],
       "scored": true,
       "setup": "",
       "teardown": "",
       "type": "doctest"
      }
     ]
    },
    "q5": {
     "name": "q5",
     "points": 1,
     "suites": [
      {
       "cases": [
        {
         "code": ">>> # checking that the district ID is in both lists\n>>> (\"sedalea\" in main_vars) and (\"sedalea\" in cov_vars) \nTrue",
         "hidden": false,
         "locked": false
        },
        {
         "code": ">>> # number of variables found for the test score data is 5\n>>> len(main_vars) == 5\nTrue",
         "hidden": false,
         "locked": false
        },
        {
         "code": ">>> # number of variables found for the covariate score data is 5\n>>> len(cov_vars) == 8\nTrue",
         "hidden": false,
         "locked": false
        }
       ],
       "scored": true,
       "setup": "",
       "teardown": "",
       "type": "doctest"
      }
     ]
    },
    "q6": {
     "name": "q6",
     "points": 1,
     "suites": [
      {
       "cases": [
        {
         "code": ">>> # checking that we are using the variable lists created before to subset ca_main\n>>> (main_sub.columns == main_vars).all() \nTrue",
         "hidden": false,
         "locked": false
        },
        {
         "code": ">>> # the number of columns should be the number of variables found for test score data\n>>> main_sub.shape == (7513,5)\nTrue",
         "hidden": false,
         "locked": false
        },
        {
         "code": ">>> # checking that we are using the variable lists created before to subset ca_cov\n>>> (cov_sub.columns == cov_vars).all() \nTrue",
         "hidden": false,
         "locked": false
        },
        {
         "code": ">>> # the number of columns should be the number of variables found for covariate score data\n>>> cov_sub.shape == (4340,8)\nTrue",
         "hidden": false,
         "locked": false
        }
       ],
       "scored": true,
       "setup": "",
       "teardown": "",
       "type": "doctest"
      }
     ]
    },
    "q7": {
     "name": "q7",
     "points": 1,
     "suites": [
      {
       "cases": [
        {
         "code": ">>> # number of rows of the rawdata dataframe after merging the two dataframes is equivalent to the number of rows of the main dataframe\n>>> rawdata.shape[0] == main_sub.shape[0]\nTrue",
         "hidden": false,
         "locked": false
        },
        {
         "code": ">>> # columns of rawdata is the union of the columns of both of the merged dataframes\n>>> rawdata.shape[0] == main_sub.shape[0] \nTrue",
         "hidden": false,
         "locked": false
        }
       ],
       "scored": true,
       "setup": "",
       "teardown": "",
       "type": "doctest"
      }
     ]
    },
    "q8": {
     "name": "q8",
     "points": 1,
     "suites": [
      {
       "cases": [
        {
         "code": ">>> (rawdata_mod1.columns == ['District ID', 'District', 'Locale', 'log(Median income)', 'Poverty rate', 'Unemployment rate', 'SNAP rate', 'Socioeconomic index', 'Grade', 'Subject', 'Gender gap']).all()\nTrue",
         "hidden": false,
         "locked": false
        },
        {
         "code": ">>> # number of rows is the same as rawdata; only difference should be the labeling and order of columns\n>>> rawdata_mod1.shape[0] == 7513\nTrue",
         "hidden": false,
         "locked": false
        },
        {
         "code": ">>> # number of columns of rawdata_mod1 should be the same as rawdata\n>>> rawdata_mod1.shape[1] == 11\nTrue",
         "hidden": false,
         "locked": false
        }
       ],
       "scored": true,
       "setup": "",
       "teardown": "",
       "type": "doctest"
      }
     ]
    },
    "q9": {
     "name": "q9",
     "points": 1,
     "suites": [
      {
       "cases": [
        {
         "code": ">>> # number of columns isn't changing\n>>> seda_data.shape[1] == 11\nTrue",
         "hidden": false,
         "locked": false
        },
        {
         "code": ">>> # seda_data has replaced these columns, so they don't exist\n>>> (\"Subject\" not in seda_data.columns) and (\"Gender Gap\" not in seda_data.columns)\nTrue",
         "hidden": false,
         "locked": false
        },
        {
         "code": ">>> # Reading gap and Math gap should be columns in the dataframe\n>>> (\"Reading gap\" in seda_data.columns) and (\"Math gap\" in seda_data.columns)\nTrue",
         "hidden": false,
         "locked": false
        },
        {
         "code": ">>> # row index should be unnamed\n>>> seda_data.columns.name == None\nTrue",
         "hidden": false,
         "locked": false
        }
       ],
       "scored": true,
       "setup": "",
       "teardown": "",
       "type": "doctest"
      }
     ]
    }
   }
  },
  "toc": {
   "base_numbering": 1,
   "nav_menu": {},
   "number_sections": true,
   "sideBar": true,
   "skip_h1_title": false,
   "title_cell": "Table of Contents",
   "title_sidebar": "Contents",
   "toc_cell": false,
   "toc_position": {},
   "toc_section_display": true,
   "toc_window_display": false
  }
 },
 "nbformat": 4,
 "nbformat_minor": 4
}
